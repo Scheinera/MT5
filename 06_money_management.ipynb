{
 "cells": [
  {
   "cell_type": "markdown",
   "id": "735390d1",
   "metadata": {},
   "source": [
    "# Chapter 06: Money management\n",
    "\n",
    "📈Join our community: https://discord.gg/wXjNPAc5BH\n",
    "\n",
    "📚Read our book: https://www.amazon.com/gp/product/B09HG18CYL \n",
    "\n",
    "🖥️Quantreo's YouTube channel: https://www.youtube.com/channel/UCp7jckfiEglNf_Gj62VR0pw"
   ]
  },
  {
   "cell_type": "code",
   "execution_count": 1,
   "id": "c9512371",
   "metadata": {},
   "outputs": [],
   "source": [
    "# Import the libraries\n",
    "import MetaTrader5 as mt5\n",
    "from datetime import datetime\n",
    "import numpy as np"
   ]
  },
  {
   "cell_type": "code",
   "execution_count": 2,
   "id": "24a9d118",
   "metadata": {},
   "outputs": [
    {
     "data": {
      "text/plain": [
       "True"
      ]
     },
     "execution_count": 2,
     "metadata": {},
     "output_type": "execute_result"
    }
   ],
   "source": [
    "# Create the bound between MT5 and Python\n",
    "mt5.initialize()"
   ]
  },
  {
   "cell_type": "markdown",
   "id": "d07b406f",
   "metadata": {},
   "source": [
    "### Place an order with take profit & stop loss"
   ]
  },
  {
   "cell_type": "code",
   "execution_count": 7,
   "id": "da38caed",
   "metadata": {},
   "outputs": [
    {
     "data": {
      "text/plain": [
       "'Done'"
      ]
     },
     "execution_count": 7,
     "metadata": {},
     "output_type": "execute_result"
    }
   ],
   "source": [
    "# Place a BUY order with take profit\n",
    "# Initialization value\n",
    "lot = 0.01\n",
    "symbol = \"EURUSD\"\n",
    "\n",
    "# Extract symbol point\n",
    "point = mt5.symbol_info(symbol).point\n",
    "\n",
    "# Choose the deviation\n",
    "deviation = 10\n",
    "\n",
    "# Find the filling mode of symbol\n",
    "filling_type = mt5.symbol_info(symbol).filling_mode\n",
    "\n",
    "# Create dictionnary request\n",
    "request = {\n",
    "    \"action\": mt5.TRADE_ACTION_DEAL,\n",
    "    \"symbol\": symbol,\n",
    "    \"volume\": lot,\n",
    "    \"type\": mt5.ORDER_TYPE_BUY,\n",
    "    \"price\": mt5.symbol_info_tick(symbol).ask,\n",
    "    \"deviation\": deviation,\n",
    "    \"tp\": mt5.symbol_info_tick(symbol).ask + 100*point,\n",
    "    \"sl\": mt5.symbol_info_tick(symbol).ask - 100*point, \n",
    "    \"type_filling\": filling_type,\n",
    "    \"type_time\": mt5.ORDER_TIME_GTC,\n",
    "}\n",
    "\n",
    "mt5.order_check(request).comment"
   ]
  },
  {
   "cell_type": "code",
   "execution_count": 7,
   "id": "cdb0bbb3",
   "metadata": {},
   "outputs": [
    {
     "data": {
      "text/plain": [
       "'Done'"
      ]
     },
     "execution_count": 7,
     "metadata": {},
     "output_type": "execute_result"
    }
   ],
   "source": [
    "# Place a SELL order with take profit\n",
    "# Initialization value\n",
    "lot = 0.01\n",
    "symbol = \"EURUSD\"\n",
    "\n",
    "# Extract symbol point\n",
    "point = mt5.symbol_info(symbol).point\n",
    "\n",
    "# Choose the deviation\n",
    "deviation = 10\n",
    "\n",
    "# Find the filling mode of symbol\n",
    "filling_type = mt5.symbol_info(symbol).filling_mode\n",
    "\n",
    "# Create dictionnary request\n",
    "request = {\n",
    "    \"action\": mt5.TRADE_ACTION_DEAL,\n",
    "    \"symbol\": symbol,\n",
    "    \"volume\": lot,\n",
    "    \"type\": mt5.ORDER_TYPE_SELL,\n",
    "    \"price\": mt5.symbol_info_tick(symbol).bid,\n",
    "    \"deviation\": deviation,\n",
    "    \"tp\": mt5.symbol_info_tick(symbol).ask - 100 * point,\n",
    "    \"sl\": mt5.symbol_info_tick(symbol).ask + 100 * point, \n",
    "    \"type_filling\": filling_type,\n",
    "    \"type_time\": mt5.ORDER_TIME_GTC,\n",
    "}\n",
    "\n",
    "mt5.order_check(request).comment"
   ]
  },
  {
   "cell_type": "markdown",
   "id": "f2beacd7",
   "metadata": {},
   "source": [
    "### Find stop loss and take profit level for a specific risk percentage"
   ]
  },
  {
   "cell_type": "code",
   "execution_count": 5,
   "id": "43d6988c",
   "metadata": {},
   "outputs": [],
   "source": [
    "def risk_reward_threshold(symbol, buy=True, risk=0.01, reward=0.02):\n",
    "    \n",
    "    # Extract the leverage\n",
    "    leverage = mt5.account_info().leverage\n",
    "\n",
    "    # Compute the price\n",
    "    price = mt5.symbol_info(symbol).ask\n",
    "\n",
    "    # Extract the number of decimals\n",
    "    nb_decimal = str(price)[::-1].find(\".\")\n",
    "\n",
    "\n",
    "    # Compute the variations in percentage\n",
    "    var_down = risk/leverage\n",
    "    var_up = reward/leverage\n",
    "\n",
    "\n",
    "    # Find the TP and SL threshold in absolute price\n",
    "    if buy:\n",
    "        price = mt5.symbol_info(symbol).ask\n",
    "\n",
    "        # Compute the variations in absolute price\n",
    "        price_var_down = var_down*price\n",
    "        price_var_up = var_up * price\n",
    "\n",
    "        tp = np.round(price + price_var_up, nb_decimal)\n",
    "        sl = np.round(price - price_var_down, nb_decimal)\n",
    "\n",
    "    else:\n",
    "\n",
    "        price = mt5.symbol_info(symbol).bid\n",
    "\n",
    "        # Compute the variations in absolute price\n",
    "        price_var_down = var_down*price\n",
    "        price_var_up = var_up * price\n",
    "\n",
    "        tp = np.round(price - price_var_up, nb_decimal)\n",
    "        sl = np.round(price + price_var_down, nb_decimal)\n",
    "\n",
    "\n",
    "        \n",
    "    print(f\"PRICE: {price} \\t Take Profit: {tp} \\t Stop Loss: {sl}\")"
   ]
  },
  {
   "cell_type": "code",
   "execution_count": 6,
   "id": "bc012463",
   "metadata": {},
   "outputs": [
    {
     "name": "stdout",
     "output_type": "stream",
     "text": [
      "PRICE: 1.1015 \t Take Profit: 1.1022 \t Stop Loss: 1.1011\n"
     ]
    }
   ],
   "source": [
    "risk_reward_threshold(\"EURUSD\",buy=True)"
   ]
  },
  {
   "cell_type": "code",
   "execution_count": 18,
   "id": "fc2136a8",
   "metadata": {},
   "outputs": [
    {
     "data": {
      "text/plain": [
       "-1.002798720064676"
      ]
     },
     "execution_count": 18,
     "metadata": {},
     "output_type": "execute_result"
    }
   ],
   "source": [
    "(1.09682 - 1.09693) / 1.09693 *100 * 100"
   ]
  },
  {
   "cell_type": "markdown",
   "id": "d98cfa33",
   "metadata": {},
   "source": [
    "### Find the volume depending of your capital"
   ]
  },
  {
   "cell_type": "code",
   "execution_count": 3,
   "id": "a1a2de6c",
   "metadata": {},
   "outputs": [
    {
     "name": "stdout",
     "output_type": "stream",
     "text": [
      "INVESTED CAPITAL: 120\n",
      "LEVERAGE: 1\n",
      "INVESTED CAPITAL LEVERAGED: 120\n"
     ]
    },
    {
     "ename": "AttributeError",
     "evalue": "'NoneType' object has no attribute 'trade_contract_size'",
     "output_type": "error",
     "traceback": [
      "\u001b[1;31m---------------------------------------------------------------------------\u001b[0m",
      "\u001b[1;31mAttributeError\u001b[0m                            Traceback (most recent call last)",
      "\u001b[1;32mc:\\Users\\scheiner\\Documents\\GitHub\\MT5\\06_money_management.ipynb Cell 12\u001b[0m line \u001b[0;36m5\n\u001b[0;32m     <a href='vscode-notebook-cell:/c%3A/Users/scheiner/Documents/GitHub/MT5/06_money_management.ipynb#X14sZmlsZQ%3D%3D?line=51'>52</a>\u001b[0m     \u001b[39melse\u001b[39;00m: \n\u001b[0;32m     <a href='vscode-notebook-cell:/c%3A/Users/scheiner/Documents/GitHub/MT5/06_money_management.ipynb#X14sZmlsZQ%3D%3D?line=52'>53</a>\u001b[0m         \u001b[39mprint\u001b[39m(\u001b[39m\"\u001b[39m\u001b[39mInvested capital is too small to be able to place an order\u001b[39m\u001b[39m\"\u001b[39m)\n\u001b[1;32m---> <a href='vscode-notebook-cell:/c%3A/Users/scheiner/Documents/GitHub/MT5/06_money_management.ipynb#X14sZmlsZQ%3D%3D?line=56'>57</a>\u001b[0m position_size(\u001b[39m120\u001b[39;49m, \u001b[39m\"\u001b[39;49m\u001b[39mSP500m\u001b[39;49m\u001b[39m\"\u001b[39;49m)\n",
      "\u001b[1;32mc:\\Users\\scheiner\\Documents\\GitHub\\MT5\\06_money_management.ipynb Cell 12\u001b[0m line \u001b[0;36m1\n\u001b[0;32m      <a href='vscode-notebook-cell:/c%3A/Users/scheiner/Documents/GitHub/MT5/06_money_management.ipynb#X14sZmlsZQ%3D%3D?line=7'>8</a>\u001b[0m invested_capital \u001b[39m=\u001b[39m capital  \u001b[39m*\u001b[39m leverage\n\u001b[0;32m      <a href='vscode-notebook-cell:/c%3A/Users/scheiner/Documents/GitHub/MT5/06_money_management.ipynb#X14sZmlsZQ%3D%3D?line=8'>9</a>\u001b[0m \u001b[39mprint\u001b[39m(\u001b[39mf\u001b[39m\u001b[39m\"\u001b[39m\u001b[39mINVESTED CAPITAL LEVERAGED: \u001b[39m\u001b[39m{\u001b[39;00minvested_capital\u001b[39m}\u001b[39;00m\u001b[39m\"\u001b[39m)\n\u001b[1;32m---> <a href='vscode-notebook-cell:/c%3A/Users/scheiner/Documents/GitHub/MT5/06_money_management.ipynb#X14sZmlsZQ%3D%3D?line=10'>11</a>\u001b[0m trade_size \u001b[39m=\u001b[39m mt5\u001b[39m.\u001b[39;49msymbol_info(symbol)\u001b[39m.\u001b[39;49mtrade_contract_size\n\u001b[0;32m     <a href='vscode-notebook-cell:/c%3A/Users/scheiner/Documents/GitHub/MT5/06_money_management.ipynb#X14sZmlsZQ%3D%3D?line=11'>12</a>\u001b[0m \u001b[39mprint\u001b[39m(\u001b[39mf\u001b[39m\u001b[39m\"\u001b[39m\u001b[39mTRADE SIZE: \u001b[39m\u001b[39m{\u001b[39;00mtrade_size\u001b[39m}\u001b[39;00m\u001b[39m\"\u001b[39m)\n\u001b[0;32m     <a href='vscode-notebook-cell:/c%3A/Users/scheiner/Documents/GitHub/MT5/06_money_management.ipynb#X14sZmlsZQ%3D%3D?line=13'>14</a>\u001b[0m price \u001b[39m=\u001b[39m (mt5\u001b[39m.\u001b[39msymbol_info(symbol)\u001b[39m.\u001b[39mask \u001b[39m+\u001b[39m mt5\u001b[39m.\u001b[39msymbol_info(symbol)\u001b[39m.\u001b[39mbid)\u001b[39m/\u001b[39m\u001b[39m2\u001b[39m\n",
      "\u001b[1;31mAttributeError\u001b[0m: 'NoneType' object has no attribute 'trade_contract_size'"
     ]
    }
   ],
   "source": [
    "def position_size(capital, symbol):\n",
    "    mt5.initialize()\n",
    "    print(f\"INVESTED CAPITAL: {capital}\")\n",
    "    \n",
    "    leverage = mt5.account_info().leverage\n",
    "    print(f\"LEVERAGE: {leverage}\")\n",
    "    \n",
    "    invested_capital = capital  * leverage\n",
    "    print(f\"INVESTED CAPITAL LEVERAGED: {invested_capital}\")\n",
    "    \n",
    "    trade_size = mt5.symbol_info(symbol).trade_contract_size\n",
    "    print(f\"TRADE SIZE: {trade_size}\")\n",
    "    \n",
    "    price = (mt5.symbol_info(symbol).ask + mt5.symbol_info(symbol).bid)/2\n",
    "    print(f\"PRICE: {price}\")\n",
    "\n",
    "    lot_size = invested_capital / trade_size / price\n",
    "    print(f\"LOT SIZE: {lot_size}\")\n",
    "    \n",
    "    min_lot = mt5.symbol_info(symbol).volume_min\n",
    "    print(f\"MIN LOT: {min_lot}\")\n",
    "    \n",
    "    max_lot = mt5.symbol_info(symbol).volume_max\n",
    "    print(f\"MAX LOT: {max_lot}\")\n",
    "\n",
    "\n",
    "    if min_lot<lot_size:\n",
    "        number_decimal = str(min_lot)[::-1].find(\".\")\n",
    "        print(f\"NUMBER DECIMAL: {number_decimal}\")\n",
    "\n",
    "        if number_decimal>0:\n",
    "            lot_size_rounded = np.round(lot_size, number_decimal)\n",
    "            print(f\"LOT SIZE ROUNDED: {lot_size_rounded}\")\n",
    "\n",
    "            if lot_size < lot_size_rounded:\n",
    "                lot_size_rounded = np.round(lot_size_rounded - min_lot, number_decimal)\n",
    "                print(f\"LOT DOWN ROUNDED: {lot_size_rounded}\")\n",
    "\n",
    "        else:\n",
    "            number_size_lot =  len(str(min_lot))\n",
    "\n",
    "            lot_size_rounded = int(np.round(lot_size, -number_size_lot))\n",
    "\n",
    "            if lot_size < lot_size_rounded:\n",
    "                lot_size_rounded = int(np.round(lot_size_rounded - number_size_lot, - number_size_lot))\n",
    "                \n",
    "        if lot_size_rounded>max_lot:\n",
    "            lot_size_rounded = max_lot\n",
    "            \n",
    "        print(f\"GOOD SIZE LOT: {lot_size_rounded}\")\n",
    "        return lot_size_rounded\n",
    "    else: \n",
    "        print(\"Invested capital is too small to be able to place an order\")\n",
    "        \n",
    "    \n",
    "    \n",
    "position_size(120, \"SP500m\")"
   ]
  },
  {
   "cell_type": "code",
   "execution_count": null,
   "id": "055bf5a5",
   "metadata": {},
   "outputs": [],
   "source": []
  }
 ],
 "metadata": {
  "kernelspec": {
   "display_name": "Python 3 (ipykernel)",
   "language": "python",
   "name": "python3"
  },
  "language_info": {
   "codemirror_mode": {
    "name": "ipython",
    "version": 3
   },
   "file_extension": ".py",
   "mimetype": "text/x-python",
   "name": "python",
   "nbconvert_exporter": "python",
   "pygments_lexer": "ipython3",
   "version": "3.11.5"
  }
 },
 "nbformat": 4,
 "nbformat_minor": 5
}
