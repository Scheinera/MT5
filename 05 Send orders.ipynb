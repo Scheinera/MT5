{
 "cells": [
  {
   "cell_type": "markdown",
   "id": "9f5dce74",
   "metadata": {},
   "source": [
    "# Chapter 05: Send orders\n",
    "\n",
    "📈Join our community: https://discord.gg/wXjNPAc5BH\n",
    "\n",
    "📚Read our book: https://www.amazon.com/gp/product/B09HG18CYL \n",
    "\n",
    "🖥️Quantreo's YouTube channel: https://www.youtube.com/channel/UCp7jckfiEglNf_Gj62VR0pw"
   ]
  },
  {
   "cell_type": "code",
   "execution_count": 15,
   "id": "3b703815",
   "metadata": {},
   "outputs": [],
   "source": [
    "# Import the libraries\n",
    "import MetaTrader5 as mt5\n",
    "from datetime import datetime"
   ]
  },
  {
   "cell_type": "code",
   "execution_count": 16,
   "id": "21576678",
   "metadata": {},
   "outputs": [
    {
     "data": {
      "text/plain": [
       "True"
      ]
     },
     "execution_count": 16,
     "metadata": {},
     "output_type": "execute_result"
    }
   ],
   "source": [
    "# Create the bound between MT5 and Python\n",
    "mt5.initialize()"
   ]
  },
  {
   "cell_type": "markdown",
   "id": "54b5fa01",
   "metadata": {},
   "source": [
    "### Send buy order\n",
    "https://www.mql5.com/fr/docs/integration/python_metatrader5/mt5ordercheck_py"
   ]
  },
  {
   "cell_type": "code",
   "execution_count": 20,
   "id": "8d9c146d",
   "metadata": {},
   "outputs": [],
   "source": [
    "# Place buy order\n",
    "\n",
    "# Initialization value\n",
    "symbol = 'WINV23'\n",
    "lot = 1\n",
    "\n",
    "# Choose the deviation\n",
    "deviation = 200\n",
    "\n",
    "\n",
    "# Create dictionnary request\n",
    "request = {\n",
    "    \"action\": mt5.TRADE_ACTION_DEAL,\n",
    "    \"symbol\": symbol,\n",
    "    \"deviation\": 200,\n",
    "    \"volume\": lot,\n",
    "    \"type\": mt5.ORDER_TYPE_BUY,\n",
    "    \"price\": mt5.symbol_info_tick(symbol).ask,\n",
    "    \"sl\": mt5.symbol_info_tick(symbol).ask - 100 * mt5.symbol_info(symbol).point,\n",
    "    \"tp\": mt5.symbol_info_tick(symbol).ask + 100 * mt5.symbol_info(symbol).point,\n",
    "    \"magic\": 234000,\n",
    "    \"comment\": \"python script open\",\n",
    "    \"type_time\": mt5.ORDER_TIME_GTC,\n",
    "    \"type_filling\": mt5.ORDER_FILLING_IOC,\n",
    "}\n",
    "\n",
    "\n",
    "mt5.order_check(request)"
   ]
  },
  {
   "cell_type": "code",
   "execution_count": 18,
   "id": "bf3df3eb",
   "metadata": {},
   "outputs": [],
   "source": [
    "request = {\n",
    "    \"action\": mt5.TRADE_ACTION_DEAL,\n",
    "    \"symbol\": symbol,\n",
    "    \"volume\": lot,\n",
    "    \"deviation\": 200,\n",
    "    \"type\": mt5.ORDER_TYPE_BUY,\n",
    "    \"price\": mt5.symbol_info_tick(symbol).ask,\n",
    "    \"deviation\": deviation,\n",
    "    \"type_time\": mt5.ORDER_TIME_GTC,\n",
    "    \"type_filling\": mt5.ORDER_FILLING_IOC,\n",
    "}\n",
    "\n",
    "mt5.order_send(request)"
   ]
  },
  {
   "cell_type": "markdown",
   "id": "8b564ed8",
   "metadata": {},
   "source": [
    "### Place sell order"
   ]
  },
  {
   "cell_type": "code",
   "execution_count": 5,
   "id": "0ca111bc",
   "metadata": {},
   "outputs": [],
   "source": [
    "request = {\n",
    "    \"action\": mt5.TRADE_ACTION_DEAL,\n",
    "    \"symbol\": symbol,\n",
    "    \"volume\": lot,\n",
    "    \"type\": mt5.ORDER_TYPE_SELL,\n",
    "    \"price\": mt5.symbol_info_tick(symbol).bid,\n",
    "    \"deviation\": deviation,\n",
    "    \"type_time\": mt5.ORDER_TIME_GTC,\n",
    "    \"type_filling\": mt5.ORDER_FILLING_IOC,\n",
    "}\n",
    "\n",
    "mt5.order_send(request)"
   ]
  },
  {
   "cell_type": "markdown",
   "id": "80ed8f72",
   "metadata": {},
   "source": [
    "### Close buy order"
   ]
  },
  {
   "cell_type": "code",
   "execution_count": 6,
   "id": "c250ccf7",
   "metadata": {},
   "outputs": [],
   "source": [
    "request = {\n",
    "    \"action\": mt5.TRADE_ACTION_DEAL,\n",
    "    \"symbol\": symbol,\n",
    "    \"position\":50067383081,\n",
    "    \"volume\": lot,\n",
    "    \"type\": mt5.ORDER_TYPE_SELL,\n",
    "    \"price\": mt5.symbol_info_tick(symbol).bid,\n",
    "    \"deviation\": deviation,\n",
    "    \"type_time\": mt5.ORDER_TIME_GTC,\n",
    "    \"type_filling\": mt5.ORDER_FILLING_IOC,\n",
    "}\n",
    "\n",
    "mt5.order_send(request)"
   ]
  },
  {
   "cell_type": "markdown",
   "id": "da90ca87",
   "metadata": {},
   "source": [
    "### Close sell order"
   ]
  },
  {
   "cell_type": "code",
   "execution_count": 8,
   "id": "9c9e8bea",
   "metadata": {},
   "outputs": [],
   "source": [
    "request = {\n",
    "    \"action\": mt5.TRADE_ACTION_DEAL,\n",
    "    \"symbol\": symbol,\n",
    "    \"position\":50067384583,\n",
    "    \"volume\": lot,\n",
    "    \"type\": mt5.ORDER_TYPE_BUY,\n",
    "    \"price\": mt5.symbol_info_tick(symbol).ask,\n",
    "    \"deviation\": deviation,\n",
    "    \"type_time\": mt5.ORDER_TIME_GTC,\n",
    "    \"type_filling\": mt5.ORDER_FILLING_IOC,\n",
    "}\n",
    "\n",
    "mt5.order_send(request)"
   ]
  },
  {
   "cell_type": "markdown",
   "id": "5c33cab2",
   "metadata": {},
   "source": [
    "### Automate the process"
   ]
  },
  {
   "cell_type": "code",
   "execution_count": 9,
   "id": "2bfc8a0b",
   "metadata": {},
   "outputs": [],
   "source": [
    "def send_order(symbol, lot, buy, sell, id_position=None, comment=\" No specific comment\", magic=0):\n",
    "    \n",
    "    # Initialize the bound between MT5 and Python\n",
    "    mt5.initialize()\n",
    "    \n",
    "    # Extract filling_mode\n",
    "    filling_type = mt5.symbol_info(symbol).filling_mode\n",
    "    \n",
    "    \n",
    "    \"\"\" OPEN A TRADE \"\"\"\n",
    "    if buy and id_position==None:\n",
    "        request = {\n",
    "        \"action\": mt5.TRADE_ACTION_DEAL,\n",
    "        \"symbol\": symbol,\n",
    "        \"volume\": lot,\n",
    "        \"type\": mt5.ORDER_TYPE_BUY,\n",
    "        \"price\": mt5.symbol_info_tick(symbol).ask,\n",
    "        \"deviation\": 10,\n",
    "        \"magic\": magic,\n",
    "        \"comment\": comment,\n",
    "        \"type_time\": mt5.ORDER_TIME_GTC,\n",
    "        \"type_filling\": mt5.ORDER_FILLING_IOC,\n",
    "        }\n",
    "        \n",
    "        result = mt5.order_send(request)\n",
    "        return result\n",
    "        \n",
    "    if sell and id_position==None:\n",
    "        request = {\n",
    "        \"action\": mt5.TRADE_ACTION_DEAL,\n",
    "        \"symbol\": symbol,\n",
    "        \"volume\": lot,\n",
    "        \"type\": mt5.ORDER_TYPE_SELL,\n",
    "        \"price\": mt5.symbol_info_tick(symbol).bid,\n",
    "        \"deviation\": 10,\n",
    "        \"magic\": magic,\n",
    "        \"comment\": comment,\n",
    "        \"type_time\": mt5.ORDER_TIME_GTC,\n",
    "        \"type_filling\": mt5.ORDER_FILLING_IOC,\n",
    "        }\n",
    "        \n",
    "        result = mt5.order_send(request)\n",
    "        return result\n",
    "    \n",
    "    \n",
    "    \"\"\" CLOSE A TRADE \"\"\"\n",
    "    if buy and id_position!=None:\n",
    "        request = {\n",
    "        \"position\": id_position,\n",
    "        \"action\": mt5.TRADE_ACTION_DEAL,\n",
    "        \"symbol\": symbol,\n",
    "        \"volume\": lot,\n",
    "        \"type\": mt5.ORDER_TYPE_SELL,\n",
    "        \"price\": mt5.symbol_info_tick(symbol).bid,\n",
    "        \"deviation\": 10,\n",
    "        \"magic\": magic,\n",
    "        \"comment\": comment,\n",
    "        \"type_time\": mt5.ORDER_TIME_GTC,\n",
    "        \"type_filling\": mt5.ORDER_FILLING_IOC,\n",
    "        }\n",
    "        \n",
    "        result = mt5.order_send(request)\n",
    "        return result\n",
    "        \n",
    "    if sell and id_position!=None:\n",
    "        request = {\n",
    "        \"position\": id_position,\n",
    "        \"action\": mt5.TRADE_ACTION_DEAL,\n",
    "        \"symbol\": symbol,\n",
    "        \"volume\": lot,\n",
    "        \"type\": mt5.ORDER_TYPE_BUY,\n",
    "        \"price\": mt5.symbol_info_tick(symbol).ask,\n",
    "        \"deviation\": 10,\n",
    "        \"magic\": magic,\n",
    "        \"comment\": comment,\n",
    "        \"type_time\": mt5.ORDER_TIME_GTC,\n",
    "        \"type_filling\": mt5.ORDER_FILLING_IOC,\n",
    "        }\n",
    "        \n",
    "        result = mt5.order_send(request)\n",
    "        return result\n",
    "    \n"
   ]
  },
  {
   "cell_type": "code",
   "execution_count": 14,
   "id": "11cc36ae",
   "metadata": {},
   "outputs": [],
   "source": [
    "information = send_order('WINV23', 1, True, False)\n",
    "information"
   ]
  },
  {
   "cell_type": "code",
   "execution_count": 13,
   "id": "cb5d427d",
   "metadata": {},
   "outputs": [
    {
     "ename": "AttributeError",
     "evalue": "'NoneType' object has no attribute 'order'",
     "output_type": "error",
     "traceback": [
      "\u001b[1;31m---------------------------------------------------------------------------\u001b[0m",
      "\u001b[1;31mAttributeError\u001b[0m                            Traceback (most recent call last)",
      "\u001b[1;32mc:\\Users\\scheiner\\Documents\\GitHub\\MT5\\05 Send orders.ipynb Cell 16\u001b[0m line \u001b[0;36m1\n\u001b[1;32m----> <a href='vscode-notebook-cell:/c%3A/Users/scheiner/Documents/GitHub/MT5/05%20Send%20orders.ipynb#X22sZmlsZQ%3D%3D?line=0'>1</a>\u001b[0m send_order(\u001b[39m'\u001b[39m\u001b[39mWINV23\u001b[39m\u001b[39m'\u001b[39m, \u001b[39m1\u001b[39m, \u001b[39mTrue\u001b[39;00m, \u001b[39mFalse\u001b[39;00m, id_position\u001b[39m=\u001b[39minformation\u001b[39m.\u001b[39;49morder)\n",
      "\u001b[1;31mAttributeError\u001b[0m: 'NoneType' object has no attribute 'order'"
     ]
    }
   ],
   "source": [
    "send_order('WINV23', 1, True, False, id_position=information.order)"
   ]
  }
 ],
 "metadata": {
  "kernelspec": {
   "display_name": "Python 3 (ipykernel)",
   "language": "python",
   "name": "python3"
  },
  "language_info": {
   "codemirror_mode": {
    "name": "ipython",
    "version": 3
   },
   "file_extension": ".py",
   "mimetype": "text/x-python",
   "name": "python",
   "nbconvert_exporter": "python",
   "pygments_lexer": "ipython3",
   "version": "3.11.5"
  }
 },
 "nbformat": 4,
 "nbformat_minor": 5
}
