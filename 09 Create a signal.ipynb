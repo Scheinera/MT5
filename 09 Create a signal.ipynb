{
 "cells": [
  {
   "cell_type": "markdown",
   "id": "aec6602f",
   "metadata": {},
   "source": [
    "# Chapter 09: Signals\n",
    "\n",
    "📈Join our community: https://discord.gg/wXjNPAc5BH\n",
    "\n",
    "📚Read our book: https://www.amazon.com/gp/product/B09HG18CYL \n",
    "\n",
    "🖥️Quantreo's YouTube channel: https://www.youtube.com/channel/UCp7jckfiEglNf_Gj62VR0pw"
   ]
  },
  {
   "cell_type": "code",
   "execution_count": 4,
   "id": "ce815c58",
   "metadata": {},
   "outputs": [],
   "source": [
    "import MetaTrader5 as mt5\n",
    "import pandas as pd\n",
    "import numpy as np\n",
    "import warnings\n",
    "from datetime import datetime\n",
    "import ta\n",
    "warnings.filterwarnings(\"ignore\")"
   ]
  },
  {
   "cell_type": "code",
   "execution_count": 5,
   "id": "4b3b4387",
   "metadata": {},
   "outputs": [
    {
     "data": {
      "text/plain": [
       "False"
      ]
     },
     "execution_count": 5,
     "metadata": {},
     "output_type": "execute_result"
    }
   ],
   "source": [
    "mt5.initialize()"
   ]
  },
  {
   "cell_type": "code",
   "execution_count": 7,
   "id": "35b4e68c",
   "metadata": {},
   "outputs": [],
   "source": [
    "class MT5:\n",
    "\n",
    "    def get_rates(symbol, n, timeframe=mt5.TIMEFRAME_D1):\n",
    "        \"\"\" Function to import the data of the chosen symbol\"\"\"\n",
    "\n",
    "        # Initialize the connection if there is not\n",
    "        mt5.initialize()\n",
    "\n",
    "        # Current date extract\n",
    "        utc_from = datetime.now()\n",
    "\n",
    "        # Import the data into a tuple\n",
    "        rates = mt5.copy_rates_from(symbol, timeframe, utc_from, n)\n",
    "\n",
    "        # Tuple to dataframe\n",
    "        rates_frame = pd.DataFrame(rates)\n",
    "\n",
    "        # Convert time in seconds into the datetime format\n",
    "        rates_frame['time'] = pd.to_datetime(rates_frame['time'], unit='s')\n",
    "\n",
    "        # Convert the column \"time\" in the right format\n",
    "        rates_frame['time'] = pd.to_datetime(rates_frame['time'], format='%Y-%m-%d')\n",
    "\n",
    "        # Set column time as the index of the dataframe\n",
    "        rates_frame = rates_frame.set_index('time')\n",
    "        return rates_frame"
   ]
  },
  {
   "cell_type": "markdown",
   "id": "de47fb6b",
   "metadata": {},
   "source": [
    "### Random signal"
   ]
  },
  {
   "cell_type": "code",
   "execution_count": 8,
   "id": "8f7d0834",
   "metadata": {},
   "outputs": [],
   "source": [
    "def random():\n",
    "    values = [True, False]\n",
    "    buy = np.random.choice(values)\n",
    "    sell = not buy\n",
    "    \n",
    "    return buy, sell"
   ]
  },
  {
   "cell_type": "code",
   "execution_count": 9,
   "id": "5d921d2a",
   "metadata": {},
   "outputs": [
    {
     "data": {
      "text/plain": [
       "(True, False)"
      ]
     },
     "execution_count": 9,
     "metadata": {},
     "output_type": "execute_result"
    }
   ],
   "source": [
    "random()"
   ]
  },
  {
   "cell_type": "markdown",
   "id": "c664bc1b",
   "metadata": {},
   "source": [
    "### SMA signal"
   ]
  },
  {
   "cell_type": "code",
   "execution_count": 10,
   "id": "3d8b890a",
   "metadata": {},
   "outputs": [],
   "source": [
    "def SMA_strategy(symbol):\n",
    "    \n",
    "    # Import / Features engineering\n",
    "    df = MT5.get_rates(symbol, 70)\n",
    "    \n",
    "    # Create Resistance using a rolling max\n",
    "    df[\"SMA fast\"] = df[\"close\"].rolling(30).mean()\n",
    "\n",
    "    # Create Support using a rolling min\n",
    "    df[\"SMA slow\"] = df[\"close\"].rolling(60).mean()\n",
    "\n",
    "    # Signals\n",
    "    condition_buy = df[\"SMA fast\"].iloc[-1] > df[\"SMA slow\"].iloc[-1]\n",
    "\n",
    "    condition_sell = df[\"SMA fast\"].iloc[-1] < df[\"SMA slow\"].iloc[-1]\n",
    "    \n",
    "    buy = condition_buy\n",
    "    sell = condition_sell\n",
    "    \n",
    "\n",
    "    return buy, sell"
   ]
  },
  {
   "cell_type": "code",
   "execution_count": 9,
   "id": "082992df",
   "metadata": {},
   "outputs": [
    {
     "data": {
      "text/plain": [
       "(True, False)"
      ]
     },
     "execution_count": 9,
     "metadata": {},
     "output_type": "execute_result"
    }
   ],
   "source": [
    "SMA_strategy(\"PETR4F\")"
   ]
  },
  {
   "cell_type": "code",
   "execution_count": 13,
   "id": "b9c5636f",
   "metadata": {},
   "outputs": [],
   "source": [
    "symbol = 'PETR4F'"
   ]
  },
  {
   "cell_type": "markdown",
   "id": "9f5585fb",
   "metadata": {},
   "source": [
    "### Multiple conditions entry"
   ]
  },
  {
   "cell_type": "code",
   "execution_count": 14,
   "id": "55ae00eb",
   "metadata": {},
   "outputs": [],
   "source": [
    "def SMA_rsi_strategy(symbol):\n",
    "    \n",
    "    # Import / Features engineering\n",
    "    df = MT5.get_rates(symbol, 70)\n",
    "    \n",
    "    # Create Resistance using a rolling max\n",
    "    df[\"SMA fast\"] = df[\"close\"].rolling(30).mean()\n",
    "\n",
    "    # Create Support using a rolling min\n",
    "    df[\"SMA slow\"] = df[\"close\"].rolling(60).mean()\n",
    "\n",
    "    # Create RSI\n",
    "    df[\"rsi\"] = ta.momentum.RSIIndicator(df[\"close\"], window=10).rsi()\n",
    "    \n",
    "    df[\"rsi yersteday\"] = df[\"rsi\"].shift(1)\n",
    "\n",
    "    # Signals\n",
    "    condition_1_buy = df[\"SMA fast\"].iloc[-1] > df[\"SMA slow\"].iloc[-1]\n",
    "    condition_2_buy = df[\"rsi\"].iloc[-1] < df[\"rsi yersteday\"].iloc[-1]\n",
    "\n",
    "    condition_1_sell = df[\"SMA fast\"].iloc[-1] < df[\"SMA slow\"].iloc[-1]\n",
    "    condition_2_sell = df[\"rsi\"].iloc[-1] > df[\"rsi yersteday\"].iloc[-1]\n",
    "    \n",
    "    buy = condition_1_buy and condition_2_buy\n",
    "    sell = condition_1_sell and condition_2_sell\n",
    "    \n",
    "\n",
    "    return buy, sell"
   ]
  },
  {
   "cell_type": "code",
   "execution_count": 15,
   "id": "350670d4",
   "metadata": {},
   "outputs": [
    {
     "ename": "KeyError",
     "evalue": "'time'",
     "output_type": "error",
     "traceback": [
      "\u001b[1;31m---------------------------------------------------------------------------\u001b[0m",
      "\u001b[1;31mKeyError\u001b[0m                                  Traceback (most recent call last)",
      "\u001b[1;32mc:\\Users\\scheiner\\Documents\\GitHub\\MT5\\09 Create a signal.ipynb Cell 14\u001b[0m line \u001b[0;36m1\n\u001b[1;32m----> <a href='vscode-notebook-cell:/c%3A/Users/scheiner/Documents/GitHub/MT5/09%20Create%20a%20signal.ipynb#X15sZmlsZQ%3D%3D?line=0'>1</a>\u001b[0m SMA_rsi_strategy(\u001b[39m\"\u001b[39;49m\u001b[39mPETR4F\u001b[39;49m\u001b[39m\"\u001b[39;49m)\n",
      "\u001b[1;32mc:\\Users\\scheiner\\Documents\\GitHub\\MT5\\09 Create a signal.ipynb Cell 14\u001b[0m line \u001b[0;36m4\n\u001b[0;32m      <a href='vscode-notebook-cell:/c%3A/Users/scheiner/Documents/GitHub/MT5/09%20Create%20a%20signal.ipynb#X15sZmlsZQ%3D%3D?line=0'>1</a>\u001b[0m \u001b[39mdef\u001b[39;00m \u001b[39mSMA_rsi_strategy\u001b[39m(symbol):\n\u001b[0;32m      <a href='vscode-notebook-cell:/c%3A/Users/scheiner/Documents/GitHub/MT5/09%20Create%20a%20signal.ipynb#X15sZmlsZQ%3D%3D?line=1'>2</a>\u001b[0m     \n\u001b[0;32m      <a href='vscode-notebook-cell:/c%3A/Users/scheiner/Documents/GitHub/MT5/09%20Create%20a%20signal.ipynb#X15sZmlsZQ%3D%3D?line=2'>3</a>\u001b[0m     \u001b[39m# Import / Features engineering\u001b[39;00m\n\u001b[1;32m----> <a href='vscode-notebook-cell:/c%3A/Users/scheiner/Documents/GitHub/MT5/09%20Create%20a%20signal.ipynb#X15sZmlsZQ%3D%3D?line=3'>4</a>\u001b[0m     df \u001b[39m=\u001b[39m MT5\u001b[39m.\u001b[39;49mget_rates(symbol, \u001b[39m70\u001b[39;49m)\n\u001b[0;32m      <a href='vscode-notebook-cell:/c%3A/Users/scheiner/Documents/GitHub/MT5/09%20Create%20a%20signal.ipynb#X15sZmlsZQ%3D%3D?line=5'>6</a>\u001b[0m     \u001b[39m# Create Resistance using a rolling max\u001b[39;00m\n\u001b[0;32m      <a href='vscode-notebook-cell:/c%3A/Users/scheiner/Documents/GitHub/MT5/09%20Create%20a%20signal.ipynb#X15sZmlsZQ%3D%3D?line=6'>7</a>\u001b[0m     df[\u001b[39m\"\u001b[39m\u001b[39mSMA fast\u001b[39m\u001b[39m\"\u001b[39m] \u001b[39m=\u001b[39m df[\u001b[39m\"\u001b[39m\u001b[39mclose\u001b[39m\u001b[39m\"\u001b[39m]\u001b[39m.\u001b[39mrolling(\u001b[39m30\u001b[39m)\u001b[39m.\u001b[39mmean()\n",
      "\u001b[1;32mc:\\Users\\scheiner\\Documents\\GitHub\\MT5\\09 Create a signal.ipynb Cell 14\u001b[0m line \u001b[0;36m1\n\u001b[0;32m     <a href='vscode-notebook-cell:/c%3A/Users/scheiner/Documents/GitHub/MT5/09%20Create%20a%20signal.ipynb#X15sZmlsZQ%3D%3D?line=15'>16</a>\u001b[0m rates_frame \u001b[39m=\u001b[39m pd\u001b[39m.\u001b[39mDataFrame(rates)\n\u001b[0;32m     <a href='vscode-notebook-cell:/c%3A/Users/scheiner/Documents/GitHub/MT5/09%20Create%20a%20signal.ipynb#X15sZmlsZQ%3D%3D?line=17'>18</a>\u001b[0m \u001b[39m# Convert time in seconds into the datetime format\u001b[39;00m\n\u001b[1;32m---> <a href='vscode-notebook-cell:/c%3A/Users/scheiner/Documents/GitHub/MT5/09%20Create%20a%20signal.ipynb#X15sZmlsZQ%3D%3D?line=18'>19</a>\u001b[0m rates_frame[\u001b[39m'\u001b[39m\u001b[39mtime\u001b[39m\u001b[39m'\u001b[39m] \u001b[39m=\u001b[39m pd\u001b[39m.\u001b[39mto_datetime(rates_frame[\u001b[39m'\u001b[39;49m\u001b[39mtime\u001b[39;49m\u001b[39m'\u001b[39;49m], unit\u001b[39m=\u001b[39m\u001b[39m'\u001b[39m\u001b[39ms\u001b[39m\u001b[39m'\u001b[39m)\n\u001b[0;32m     <a href='vscode-notebook-cell:/c%3A/Users/scheiner/Documents/GitHub/MT5/09%20Create%20a%20signal.ipynb#X15sZmlsZQ%3D%3D?line=20'>21</a>\u001b[0m \u001b[39m# Convert the column \"time\" in the right format\u001b[39;00m\n\u001b[0;32m     <a href='vscode-notebook-cell:/c%3A/Users/scheiner/Documents/GitHub/MT5/09%20Create%20a%20signal.ipynb#X15sZmlsZQ%3D%3D?line=21'>22</a>\u001b[0m rates_frame[\u001b[39m'\u001b[39m\u001b[39mtime\u001b[39m\u001b[39m'\u001b[39m] \u001b[39m=\u001b[39m pd\u001b[39m.\u001b[39mto_datetime(rates_frame[\u001b[39m'\u001b[39m\u001b[39mtime\u001b[39m\u001b[39m'\u001b[39m], \u001b[39mformat\u001b[39m\u001b[39m=\u001b[39m\u001b[39m'\u001b[39m\u001b[39m%\u001b[39m\u001b[39mY-\u001b[39m\u001b[39m%\u001b[39m\u001b[39mm-\u001b[39m\u001b[39m%d\u001b[39;00m\u001b[39m'\u001b[39m)\n",
      "File \u001b[1;32mc:\\Users\\scheiner\\Documents\\GitHub\\.venv\\Lib\\site-packages\\pandas\\core\\frame.py:3896\u001b[0m, in \u001b[0;36mDataFrame.__getitem__\u001b[1;34m(self, key)\u001b[0m\n\u001b[0;32m   3894\u001b[0m \u001b[39mif\u001b[39;00m \u001b[39mself\u001b[39m\u001b[39m.\u001b[39mcolumns\u001b[39m.\u001b[39mnlevels \u001b[39m>\u001b[39m \u001b[39m1\u001b[39m:\n\u001b[0;32m   3895\u001b[0m     \u001b[39mreturn\u001b[39;00m \u001b[39mself\u001b[39m\u001b[39m.\u001b[39m_getitem_multilevel(key)\n\u001b[1;32m-> 3896\u001b[0m indexer \u001b[39m=\u001b[39m \u001b[39mself\u001b[39;49m\u001b[39m.\u001b[39;49mcolumns\u001b[39m.\u001b[39;49mget_loc(key)\n\u001b[0;32m   3897\u001b[0m \u001b[39mif\u001b[39;00m is_integer(indexer):\n\u001b[0;32m   3898\u001b[0m     indexer \u001b[39m=\u001b[39m [indexer]\n",
      "File \u001b[1;32mc:\\Users\\scheiner\\Documents\\GitHub\\.venv\\Lib\\site-packages\\pandas\\core\\indexes\\range.py:418\u001b[0m, in \u001b[0;36mRangeIndex.get_loc\u001b[1;34m(self, key)\u001b[0m\n\u001b[0;32m    416\u001b[0m         \u001b[39mraise\u001b[39;00m \u001b[39mKeyError\u001b[39;00m(key) \u001b[39mfrom\u001b[39;00m \u001b[39merr\u001b[39;00m\n\u001b[0;32m    417\u001b[0m \u001b[39mif\u001b[39;00m \u001b[39misinstance\u001b[39m(key, Hashable):\n\u001b[1;32m--> 418\u001b[0m     \u001b[39mraise\u001b[39;00m \u001b[39mKeyError\u001b[39;00m(key)\n\u001b[0;32m    419\u001b[0m \u001b[39mself\u001b[39m\u001b[39m.\u001b[39m_check_indexing_error(key)\n\u001b[0;32m    420\u001b[0m \u001b[39mraise\u001b[39;00m \u001b[39mKeyError\u001b[39;00m(key)\n",
      "\u001b[1;31mKeyError\u001b[0m: 'time'"
     ]
    }
   ],
   "source": [
    "SMA_rsi_strategy(\"PETR4F\")"
   ]
  },
  {
   "cell_type": "code",
   "execution_count": null,
   "id": "10f4dfc8",
   "metadata": {},
   "outputs": [],
   "source": []
  }
 ],
 "metadata": {
  "kernelspec": {
   "display_name": "Python 3 (ipykernel)",
   "language": "python",
   "name": "python3"
  },
  "language_info": {
   "codemirror_mode": {
    "name": "ipython",
    "version": 3
   },
   "file_extension": ".py",
   "mimetype": "text/x-python",
   "name": "python",
   "nbconvert_exporter": "python",
   "pygments_lexer": "ipython3",
   "version": "3.11.5"
  }
 },
 "nbformat": 4,
 "nbformat_minor": 5
}
